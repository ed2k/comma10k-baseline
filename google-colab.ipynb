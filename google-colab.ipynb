{
  "nbformat": 4,
  "nbformat_minor": 0,
  "metadata": {
    "colab": {
      "name": "Untitled1.ipynb",
      "provenance": [],
      "authorship_tag": "ABX9TyMEioze0JFxv1q8uYRzQ9Ql",
      "include_colab_link": true
    },
    "kernelspec": {
      "name": "python3",
      "display_name": "Python 3"
    },
    "accelerator": "GPU"
  },
  "cells": [
    {
      "cell_type": "markdown",
      "metadata": {
        "id": "view-in-github",
        "colab_type": "text"
      },
      "source": [
        "<a href=\"https://colab.research.google.com/github/ed2k/comma10k-baseline/blob/main/google-colab.ipynb\" target=\"_parent\"><img src=\"https://colab.research.google.com/assets/colab-badge.svg\" alt=\"Open In Colab\"/></a>"
      ]
    },
    {
      "cell_type": "code",
      "metadata": {
        "colab": {
          "base_uri": "https://localhost:8080/"
        },
        "id": "srw5fnoyHfWy",
        "outputId": "c5f0f3cc-b2c4-46f8-f5f3-0355e13a6eae"
      },
      "source": [
        "!git clone https://github.com/YassineYousfi/comma10k-baseline.git"
      ],
      "execution_count": 2,
      "outputs": [
        {
          "output_type": "stream",
          "text": [
            "Cloning into 'comma10k-baseline'...\n",
            "remote: Enumerating objects: 19, done.\u001b[K\n",
            "remote: Counting objects: 100% (19/19), done.\u001b[K\n",
            "remote: Compressing objects: 100% (13/13), done.\u001b[K\n",
            "remote: Total 19 (delta 4), reused 16 (delta 4), pack-reused 0\u001b[K\n",
            "Unpacking objects: 100% (19/19), done.\n"
          ],
          "name": "stdout"
        }
      ]
    },
    {
      "cell_type": "code",
      "metadata": {
        "colab": {
          "base_uri": "https://localhost:8080/"
        },
        "id": "8MktAGaCJC1c",
        "outputId": "a511ac02-960c-4a07-c80e-553dfd69d2d8"
      },
      "source": [
        "!git clone https://github.com/commaai/comma10k.git"
      ],
      "execution_count": 7,
      "outputs": [
        {
          "output_type": "stream",
          "text": [
            "Cloning into 'comma10k'...\n",
            "remote: Enumerating objects: 4, done.\u001b[K\n",
            "remote: Counting objects: 100% (4/4), done.\u001b[K\n",
            "remote: Compressing objects: 100% (4/4), done.\u001b[K\n",
            "remote: Total 50391 (delta 0), reused 0 (delta 0), pack-reused 50387\u001b[K\n",
            "Receiving objects: 100% (50391/50391), 6.73 GiB | 44.89 MiB/s, done.\n",
            "Resolving deltas: 100% (6308/6308), done.\n",
            "Checking out files: 100% (19795/19795), done.\n"
          ],
          "name": "stdout"
        }
      ]
    },
    {
      "cell_type": "code",
      "metadata": {
        "colab": {
          "base_uri": "https://localhost:8080/"
        },
        "id": "jzXPCJvbHxYz",
        "outputId": "af68f825-129e-473b-9613-5f343c213d9e"
      },
      "source": [
        "ls"
      ],
      "execution_count": 9,
      "outputs": [
        {
          "output_type": "stream",
          "text": [
            "\u001b[0m\u001b[01;34mcomma10k\u001b[0m/         LitModel.py   requirements.txt\n",
            "example.png       \u001b[01;34m__pycache__\u001b[0m/  retriever.py\n",
            "example_pred.png  README.md     train_lit_model.py\n"
          ],
          "name": "stdout"
        }
      ]
    },
    {
      "cell_type": "code",
      "metadata": {
        "colab": {
          "base_uri": "https://localhost:8080/"
        },
        "id": "_jxrYvWbIKf0",
        "outputId": "2d86432b-abca-47be-d200-5abf8a644f7b"
      },
      "source": [
        "!pip install -qr requirements.txt"
      ],
      "execution_count": 4,
      "outputs": [
        {
          "output_type": "stream",
          "text": [
            "\u001b[K     |████████████████████████████████| 2.8MB 9.1MB/s \n",
            "\u001b[K     |████████████████████████████████| 409kB 39.8MB/s \n",
            "\u001b[K     |████████████████████████████████| 122kB 24.4MB/s \n",
            "\u001b[K     |████████████████████████████████| 61kB 10.1MB/s \n",
            "\u001b[K     |████████████████████████████████| 276kB 51.2MB/s \n",
            "\u001b[K     |████████████████████████████████| 829kB 43.3MB/s \n",
            "\u001b[K     |████████████████████████████████| 634kB 48.5MB/s \n",
            "\u001b[K     |████████████████████████████████| 61kB 9.5MB/s \n",
            "\u001b[K     |████████████████████████████████| 163kB 50.4MB/s \n",
            "\u001b[?25h  Building wheel for albumentations (setup.py) ... \u001b[?25l\u001b[?25hdone\n",
            "  Building wheel for PyYAML (setup.py) ... \u001b[?25l\u001b[?25hdone\n",
            "  Building wheel for future (setup.py) ... \u001b[?25l\u001b[?25hdone\n",
            "  Building wheel for imgaug (setup.py) ... \u001b[?25l\u001b[?25hdone\n",
            "  Building wheel for pretrainedmodels (setup.py) ... \u001b[?25l\u001b[?25hdone\n",
            "  Building wheel for efficientnet-pytorch (setup.py) ... \u001b[?25l\u001b[?25hdone\n",
            "\u001b[31mERROR: tensorflow 2.3.0 has requirement tensorboard<3,>=2.3.0, but you'll have tensorboard 2.2.0 which is incompatible.\u001b[0m\n"
          ],
          "name": "stdout"
        }
      ]
    },
    {
      "cell_type": "code",
      "metadata": {
        "colab": {
          "base_uri": "https://localhost:8080/"
        },
        "id": "62Q074iJIAJN",
        "outputId": "a6d558fb-ea79-44f4-9565-fd571eb55b9f"
      },
      "source": [
        "!python3 train_lit_model.py --backbone efficientnet-b4 --version first-stage --gpus 1 --batch-size 2 --epochs 10 --height 448 --width 576 --data-path comma10k\n"
      ],
      "execution_count": 11,
      "outputs": [
        {
          "output_type": "stream",
          "text": [
            "2020-12-05 23:16:07.581100: I tensorflow/stream_executor/platform/default/dso_loader.cc:48] Successfully opened dynamic library libcudart.so.10.1\n",
            "GPU available: True, used: True\n",
            "TPU available: False, using: 0 TPU cores\n",
            "CUDA_VISIBLE_DEVICES: [0]\n",
            "Using native 16bit precision.\n",
            "data ready\n",
            "/usr/local/lib/python3.6/dist-packages/pytorch_lightning/utilities/distributed.py:37: UserWarning: WORLD_SIZE environment variable (2) is not equal to the computed world size (1). Ignored.\n",
            "  warnings.warn(*args, **kwargs)\n",
            "initializing ddp: GLOBAL_RANK: 0, MEMBER: 1/1\n",
            "----------------------------------------------------------------------------------------------------\n",
            "distributed_backend=ddp\n",
            "All DDP processes registered. Starting ddp with 1 processes\n",
            "----------------------------------------------------------------------------------------------------\n",
            "/usr/local/lib/python3.6/dist-packages/pytorch_lightning/utilities/distributed.py:37: UserWarning: Could not log computational graph since the `model.example_input_array` attribute is not set or `input_array` was not given\n",
            "  warnings.warn(*args, **kwargs)\n",
            "\n",
            "  | Name | Type | Params\n",
            "------------------------------\n",
            "0 | net  | Unet | 20 M  \n",
            "Validation data loaded.\n",
            "Training data loaded.\n",
            "Validation data loaded.\n",
            "Epoch 0:  12% 442/3669 [03:33<25:57,  2.07it/s, loss=0.242, v_num=tage, train_acc=0.98] /usr/local/lib/python3.6/dist-packages/pytorch_lightning/utilities/distributed.py:37: UserWarning: Detected KeyboardInterrupt, attempting graceful shutdown...\n",
            "  warnings.warn(*args, **kwargs)\n",
            "Saving latest checkpoint..\n",
            "Epoch 0:  12% 442/3669 [03:33<26:01,  2.07it/s, loss=0.242, v_num=tage, train_acc=0.98]\n"
          ],
          "name": "stdout"
        }
      ]
    }
  ]
}